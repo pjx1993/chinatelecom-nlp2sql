{
 "cells": [
  {
   "cell_type": "code",
   "execution_count": 2,
   "metadata": {},
   "outputs": [],
   "source": [
    "from nl2sql.utils import  read_tables\n",
    "test_table_file = './data/val.tables.json'\n",
    "\n",
    "val_tables = read_tables(test_table_file)"
   ]
  },
  {
   "cell_type": "code",
   "execution_count": 14,
   "metadata": {},
   "outputs": [
    {
     "data": {
      "text/plain": [
       "['城市', '名称', '12/第22周', '11/第22周', '12/第21周', '11年底', '同比', '环比', '较11年底涨幅']"
      ]
     },
     "execution_count": 14,
     "metadata": {},
     "output_type": "execute_result"
    }
   ],
   "source": [
    "val_tables.__getitem__('5a4b46fd312b11e9bef0542696d6e445')._df.columns.values.tolist()"
   ]
  },
  {
   "cell_type": "code",
   "execution_count": 16,
   "metadata": {},
   "outputs": [
    {
     "name": "stdout",
     "output_type": "stream",
     "text": [
      "['城市', '名称', '12/第22周', '11/第22周', '12/第21周', '11年底', '同比', '环比', '较11年底涨幅']\n",
      "3\n",
      "SELECT MAX(11/第22周) FROM Table_5a4b46fd312b11e9bef0542696d6e445 WHERE 城市 == \"北京\" OR 城市 == \"上海\"\n"
     ]
    }
   ],
   "source": [
    "from dbengine import DBEngine\n",
    "\n",
    "sql_json = {\"question\": \"11年第22周的时候啊北京和上海住房成交均价最高的是多少啊\", \"table_id\": \"5a4b46fd312b11e9bef0542696d6e445\", \"sql\": {\"agg\": [2], \"cond_conn_op\": 2, \"sel\": [3], \"conds\": [[0, 2, \"北京\"], [0, 2, \"上海\"]]}}\n",
    "engine = DBEngine()\n",
    "header = val_tables.__getitem__(sql_json['table_id'])._df.columns.values.tolist()\n",
    "print(engine.execute(sql_json['table_id'],sql_json['sql']['sel'], sql_json['sql']['agg'], sql_json['sql']['conds'], sql_json['sql']['cond_conn_op'],header))"
   ]
  },
  {
   "cell_type": "code",
   "execution_count": null,
   "metadata": {},
   "outputs": [],
   "source": []
  }
 ],
 "metadata": {
  "kernelspec": {
   "display_name": "Python 3",
   "language": "python",
   "name": "python3"
  },
  "language_info": {
   "codemirror_mode": {
    "name": "ipython",
    "version": 3
   },
   "file_extension": ".py",
   "mimetype": "text/x-python",
   "name": "python",
   "nbconvert_exporter": "python",
   "pygments_lexer": "ipython3",
   "version": "3.6.7"
  }
 },
 "nbformat": 4,
 "nbformat_minor": 2
}
